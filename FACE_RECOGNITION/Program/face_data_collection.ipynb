{
 "cells": [
  {
   "cell_type": "code",
   "execution_count": 3,
   "metadata": {},
   "outputs": [
    {
     "name": "stdout",
     "output_type": "stream",
     "text": [
      "Enter File The Name of fileswati\n"
     ]
    }
   ],
   "source": [
    "import cv2\n",
    "import numpy as np\n",
    "\n",
    "\n",
    "face_data=[]\n",
    "skip=0\n",
    "data_path=\"/home/manik/data/\"\n",
    "\n",
    "file_name=input(\"Enter File The Name of file\")\n",
    "\n",
    "cap=cv2.VideoCapture(0)\n",
    "\n",
    "face_cascade=cv2.CascadeClassifier(\"haarcascade_frontalface_alt.xml\")\n",
    "\n",
    "if face_cascade.empty():\n",
    "    print(True)\n",
    "\n",
    "while True:\n",
    "    \n",
    "    ret,frame=cap.read()\n",
    "    \n",
    "    gray_frame=cv2.cvtColor(frame,cv2.COLOR_BGR2GRAY)\n",
    "\n",
    "    if ret==False:\n",
    "        continue\n",
    "        \n",
    "    faces = face_cascade.detectMultiScale(gray_frame,1.3,5)\n",
    "    \n",
    "    if len(faces)==0:\n",
    "        continue\n",
    "        \n",
    "    faces= sorted(faces,key=lambda f:f[2]*f[3])\n",
    "    \n",
    "    for (x,y,w,h) in faces[-1:]:\n",
    "        \n",
    "        cv2.rectangle(frame,(x,y),(x+w,y+h),(0,255,255),2)\n",
    "        \n",
    "        face_section=frame[y-10:y+h+10,x-10:x+w+10]\n",
    "        \n",
    "        face_section=cv2.resize(face_section,(100,100))\n",
    "        \n",
    "        skip+=1\n",
    "        \n",
    "        if skip%10==0:\n",
    "                face_data.append(face_section)\n",
    "        \n",
    "    cv2.imshow(\"Video Frame\",frame)\n",
    " \n",
    "    cv2.imshow(\"selected frame\",face_section)\n",
    "    \n",
    "    key_pressed = cv2.waitKey(1) & 0xFF\n",
    "    \n",
    "    if(key_pressed==ord('q')):\n",
    "        break\n",
    "        \n",
    "face_data=np.asarray(face_data)\n",
    "\n",
    "face_data=face_data.reshape((face_data.shape[0],-1))\n",
    "\n",
    "np.save(data_path+\"swati_face_data\"+'.npy',face_data)\n",
    "\n",
    "cap.release()\n",
    "\n",
    "cv2.destroyAllWindows()"
   ]
  },
  {
   "cell_type": "code",
   "execution_count": null,
   "metadata": {},
   "outputs": [],
   "source": []
  }
 ],
 "metadata": {
  "kernelspec": {
   "display_name": "Python 3",
   "language": "python",
   "name": "python3"
  },
  "language_info": {
   "codemirror_mode": {
    "name": "ipython",
    "version": 3
   },
   "file_extension": ".py",
   "mimetype": "text/x-python",
   "name": "python",
   "nbconvert_exporter": "python",
   "pygments_lexer": "ipython3",
   "version": "3.7.1"
  }
 },
 "nbformat": 4,
 "nbformat_minor": 2
}
