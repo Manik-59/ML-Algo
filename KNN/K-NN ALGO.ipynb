{
 "cells": [
  {
   "cell_type": "code",
   "execution_count": 3,
   "metadata": {},
   "outputs": [
    {
     "data": {
      "image/png": "[encoded data removed]",
      "text/plain": [
       "<Figure size 432x288 with 1 Axes>"
      ]
     },
     "metadata": {
      "needs_background": "light"
     },
     "output_type": "display_data"
    },
    {
     "name": "stdout",
     "output_type": "stream",
     "text": [
      "7.0\n"
     ]
    }
   ],
   "source": [
    "import matplotlib.pyplot as plt\n",
    "import pandas as pd\n",
    "import numpy as np\n",
    "\n",
    "train_data=pd.read_csv(\"/home/manik/Downloads/train.csv\")\n",
    "test_data=pd.read_csv(\"/home/manik/Downloads/test.csv\")\n",
    "\n",
    "#print(train_data.head(n=5))\n",
    "train_data=train_data.values\n",
    "\n",
    "test_data=test_data.values\n",
    "\n",
    "test_data=test_data[1:,:]\n",
    "\n",
    "Labels=train_data[:,0]\n",
    "\n",
    "pixels=train_data[:,1:]\n",
    "#print(train_data.shape)\n",
    "test=test_data[658]\n",
    "\n",
    "test=test.reshape((28,28))\n",
    "\n",
    "plt.imshow(test)\n",
    "\n",
    "plt.show()\n",
    "\n",
    "def dist(X1,X2):\n",
    "    return np.sqrt(sum((X2-X1)**2))\n",
    "    \n",
    "def KNN(X):\n",
    "\n",
    "    m=pixels.shape[0]\n",
    "    \n",
    "    expected_value=[]\n",
    "    \n",
    "    for i in range(m):\n",
    "        d=dist(pixels[i],X)\n",
    "        expected_value.append((d,Labels[i]))\n",
    "        \n",
    "    expected_value=sorted(expected_value)\n",
    "    \n",
    "    expected_value=expected_value[:20]\n",
    "    \n",
    "    expected_value=np.array(expected_value)\n",
    "    \n",
    "    unique=np.unique(expected_value[:,1],return_counts=True)\n",
    "    \n",
    "    \n",
    "    ind =unique[1].argmax() \n",
    "    \n",
    "    pre=unique[0][ind]\n",
    "    \n",
    "    return pre\n",
    "    \n",
    "    \n",
    "print(KNN(test_data[658]))\n",
    "\n"
   ]
  },
  {
   "cell_type": "code",
   "execution_count": null,
   "metadata": {},
   "outputs": [],
   "source": []
  }
 ],
 "metadata": {
  "kernelspec": {
   "display_name": "Python 3",
   "language": "python",
   "name": "python3"
  },
  "language_info": {
   "codemirror_mode": {
    "name": "ipython",
    "version": 3
   },
   "file_extension": ".py",
   "mimetype": "text/x-python",
   "name": "python",
   "nbconvert_exporter": "python",
   "pygments_lexer": "ipython3",
   "version": "3.7.1"
  }
 },
 "nbformat": 4,
 "nbformat_minor": 2
}
